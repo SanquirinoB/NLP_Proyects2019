{
 "cells": [
  {
   "cell_type": "markdown",
   "metadata": {
    "ExecuteTime": {
     "end_time": "2019-08-21T19:18:43.301002Z",
     "start_time": "2019-08-21T19:18:43.298037Z"
    },
    "colab_type": "text",
    "id": "ag-yRP2rO5wn"
   },
   "source": [
    "# Baseline tarea 1\n",
    "\n",
    "-----------------------------\n",
    "\n",
    "\n",
    "\n",
    "\n",
    "## Importar librerías y utiles"
   ]
  },
  {
   "cell_type": "code",
   "execution_count": 1,
   "metadata": {
    "ExecuteTime": {
     "end_time": "2019-08-21T19:45:52.624502Z",
     "start_time": "2019-08-21T19:45:48.613907Z"
    },
    "colab": {},
    "colab_type": "code",
    "id": "fWLZ8wA0O5ww"
   },
   "outputs": [
    {
     "name": "stderr",
     "output_type": "stream",
     "text": [
      "[nltk_data] Downloading package stopwords to\n",
      "[nltk_data]     /home/marcelo/nltk_data...\n",
      "[nltk_data]   Unzipping corpora/stopwords.zip.\n"
     ]
    },
    {
     "data": {
      "text/plain": [
       "True"
      ]
     },
     "execution_count": 1,
     "metadata": {},
     "output_type": "execute_result"
    }
   ],
   "source": [
    "import pandas as pd\n",
    "import shutil\n",
    "\n",
    "#tokenizadores\n",
    "from sklearn.feature_extraction.text import CountVectorizer, TfidfVectorizer\n",
    "#clasificadores\n",
    "from sklearn.naive_bayes import MultinomialNB, GaussianNB\n",
    "from sklearn.linear_model import LogisticRegressionCV\n",
    "from sklearn.ensemble import VotingClassifier, RandomForestClassifier, AdaBoostClassifier\n",
    "from sklearn.svm import SVC\n",
    "from sklearn.multiclass import OneVsRestClassifier\n",
    "from sklearn.neural_network import MLPClassifier\n",
    "#pipeline\n",
    "from sklearn.pipeline import Pipeline\n",
    "#metricas\n",
    "from sklearn.metrics import make_scorer, confusion_matrix, cohen_kappa_score, classification_report, accuracy_score, roc_auc_score\n",
    "from sklearn.model_selection import train_test_split, cross_val_score\n",
    "from sklearn import model_selection\n",
    "from nltk.tokenize import TweetTokenizer\n",
    "from nltk.sentiment.util import mark_negation\n",
    "from nltk.stem import WordNetLemmatizer\n",
    "from nltk.tokenize import TweetTokenizer\n",
    "from nltk.sentiment.util import mark_negation\n",
    "from sklearn.model_selection import GridSearchCV\n",
    "#limpieza\n",
    "from nltk.corpus import stopwords\n",
    "import string\n",
    "import nltk\n",
    "\n",
    "#graficos\n",
    "import matplotlib.pyplot as plt\n",
    "\n",
    "import os\n",
    "import numpy as np\n",
    "\n",
    "nltk.download('stopwords')"
   ]
  },
  {
   "cell_type": "markdown",
   "metadata": {
    "colab_type": "text",
    "id": "OggxcxoCO5w-"
   },
   "source": [
    "## Datos\n",
    "\n",
    "### Obtener los datasets desde el github del curso"
   ]
  },
  {
   "cell_type": "code",
   "execution_count": 2,
   "metadata": {
    "ExecuteTime": {
     "end_time": "2019-08-21T19:45:55.819485Z",
     "start_time": "2019-08-21T19:45:52.626520Z"
    },
    "colab": {},
    "colab_type": "code",
    "id": "7d5pB9dsO5xB"
   },
   "outputs": [],
   "source": [
    "train = {\n",
    "    'anger': pd.read_csv('https://raw.githubusercontent.com/dccuchile/CC6205/master/assignments/assignment_1/data/train/anger-train.txt', sep='\\t', names=['id', 'tweet', 'class', 'sentiment_intensity']),\n",
    "    'fear': pd.read_csv('https://raw.githubusercontent.com/dccuchile/CC6205/master/assignments/assignment_1/data/train/fear-train.txt', sep='\\t', names=['id', 'tweet', 'class', 'sentiment_intensity']),\n",
    "    'joy': pd.read_csv('https://raw.githubusercontent.com/dccuchile/CC6205/master/assignments/assignment_1/data/train/joy-train.txt', sep='\\t', names=['id', 'tweet', 'class', 'sentiment_intensity']),\n",
    "    'sadness': pd.read_csv('https://raw.githubusercontent.com/dccuchile/CC6205/master/assignments/assignment_1/data/train/sadness-train.txt', sep='\\t', names=['id', 'tweet', 'class', 'sentiment_intensity'])\n",
    "}\n",
    "\n",
    "target = {\n",
    "    'anger': pd.read_csv('https://raw.githubusercontent.com/dccuchile/CC6205/master/assignments/assignment_1/data/target/anger-target.txt', sep='\\t', names=['id', 'tweet', 'class', 'sentiment_intensity'], na_values=['NONE']),\n",
    "    'fear': pd.read_csv('https://raw.githubusercontent.com/dccuchile/CC6205/master/assignments/assignment_1/data/target/fear-target.txt', sep='\\t', names=['id', 'tweet', 'class', 'sentiment_intensity'], na_values=['NONE']),\n",
    "    'joy': pd.read_csv('https://raw.githubusercontent.com/dccuchile/CC6205/master/assignments/assignment_1/data/target/joy-target.txt', sep='\\t', names=['id', 'tweet', 'class', 'sentiment_intensity'], na_values=['NONE']),\n",
    "    'sadness': pd.read_csv('https://raw.githubusercontent.com/dccuchile/CC6205/master/assignments/assignment_1/data/target/sadness-target.txt', sep='\\t', names=['id', 'tweet', 'class', 'sentiment_intensity'], na_values=['NONE'])\n",
    "}\n",
    "\n",
    "data_keys = ['anger','fear','joy','sadness']"
   ]
  },
  {
   "cell_type": "markdown",
   "metadata": {
    "colab_type": "text",
    "id": "UwaBrBQwO5xM"
   },
   "source": [
    "### Analizar los datos \n",
    "\n",
    "Imprimir la cantidad de tweets de cada dataset, según su intensidad de sentimiento"
   ]
  },
  {
   "cell_type": "code",
   "execution_count": 3,
   "metadata": {
    "ExecuteTime": {
     "end_time": "2019-08-21T19:45:55.879257Z",
     "start_time": "2019-08-21T19:45:55.826364Z"
    },
    "colab": {},
    "colab_type": "code",
    "id": "69D37cVuO5xO",
    "outputId": "20fddfbf-7034-4261-9c09-546c8cb80d20"
   },
   "outputs": [
    {
     "name": "stdout",
     "output_type": "stream",
     "text": [
      "anger \n",
      "                       id  tweet  class\n",
      "sentiment_intensity                   \n",
      "high                 163    163    163\n",
      "low                  161    161    161\n",
      "medium               617    617    617\n",
      "fear \n",
      "                       id  tweet  class\n",
      "sentiment_intensity                   \n",
      "high                 270    270    270\n",
      "low                  288    288    288\n",
      "medium               699    699    699\n",
      "joy \n",
      "                       id  tweet  class\n",
      "sentiment_intensity                   \n",
      "high                 195    195    195\n",
      "low                  219    219    219\n",
      "medium               488    488    488\n",
      "sadness \n",
      "                       id  tweet  class\n",
      "sentiment_intensity                   \n",
      "high                 197    197    197\n",
      "low                  210    210    210\n",
      "medium               453    453    453\n"
     ]
    }
   ],
   "source": [
    "def get_group_dist(group_name, train):\n",
    "    print(group_name, \"\\n\",\n",
    "          train[group_name].groupby('sentiment_intensity').count())\n",
    "\n",
    "\n",
    "for key in train:\n",
    "    get_group_dist(key, train)"
   ]
  },
  {
   "cell_type": "markdown",
   "metadata": {
    "colab_type": "text",
    "id": "51Q3K6cmO5xc"
   },
   "source": [
    "## Clasificar"
   ]
  },
  {
   "cell_type": "code",
   "execution_count": 4,
   "metadata": {
    "ExecuteTime": {
     "end_time": "2019-08-21T19:45:55.891188Z",
     "start_time": "2019-08-21T19:45:55.882211Z"
    },
    "colab": {},
    "colab_type": "code",
    "id": "M_nNREymO5xe"
   },
   "outputs": [],
   "source": [
    "# Metrica de evaluación. No tocar...\n",
    "def auc(test_set, predicted_set):\n",
    "    high_predicted = np.array([prediction[2] for prediction in predicted_set])\n",
    "    medium_predicted = np.array(\n",
    "        [prediction[1] for prediction in predicted_set])\n",
    "    low_predicted = np.array([prediction[0] for prediction in predicted_set])\n",
    "\n",
    "    high_test = np.where(test_set == 'high', 1.0, 0.0)\n",
    "    medium_test = np.where(test_set == 'medium', 1.0, 0.0)\n",
    "    low_test = np.where(test_set == 'low', 1.0, 0.0)\n",
    "\n",
    "    auc_high = roc_auc_score(high_test, high_predicted)\n",
    "    auc_med = roc_auc_score(medium_test, medium_predicted)\n",
    "    auc_low = roc_auc_score(low_test, low_predicted)\n",
    "\n",
    "    auc_w = (low_test.sum() * auc_low + medium_test.sum() * auc_med +\n",
    "             high_test.sum() * auc_high) / (\n",
    "                 low_test.sum() + medium_test.sum() + high_test.sum())\n",
    "    return auc_w    "
   ]
  },
  {
   "cell_type": "markdown",
   "metadata": {
    "colab_type": "text",
    "id": "89OXoatnO5xm"
   },
   "source": [
    "### Dividir el dataset en entrenamiento y prueba"
   ]
  },
  {
   "cell_type": "code",
   "execution_count": 5,
   "metadata": {
    "ExecuteTime": {
     "end_time": "2019-08-21T19:45:55.901161Z",
     "start_time": "2019-08-21T19:45:55.893181Z"
    },
    "colab": {},
    "colab_type": "code",
    "id": "tRNnXvmAO5xp"
   },
   "outputs": [],
   "source": [
    "def split_dataset(dataset):\n",
    "    # Dividir el dataset en train set y test set\n",
    "    X_train, X_test, y_train, y_test = train_test_split(\n",
    "        dataset.tweet,\n",
    "        dataset.sentiment_intensity,\n",
    "        shuffle=True,\n",
    "        test_size=0.33,\n",
    "        stratify= dataset.sentiment_intensity)\n",
    "    return X_train, X_test, y_train, y_test"
   ]
  },
  {
   "cell_type": "markdown",
   "metadata": {},
   "source": [
    "## Tokenizador manual\n",
    "\n",
    "combinación de tweet_tokenizer + lemmatizer + mark_negation"
   ]
  },
  {
   "cell_type": "code",
   "execution_count": 6,
   "metadata": {},
   "outputs": [],
   "source": [
    "def overkill_tokenize(sentence):\n",
    "    punt = list(string.punctuation)\n",
    "    punt.remove(\"!\")\n",
    "    remove_words = stopwords.words('english') + punt\n",
    "    sentence = sentence.lower()\n",
    "    # first: tweet tokenize\n",
    "    tweetTok = TweetTokenizer(strip_handles=True, reduce_len=True).tokenize\n",
    "    lemma = WordNetLemmatizer().lemmatize\n",
    "    preprocess_tweet = tweetTok(sentence)\n",
    "    \n",
    "    # second: lemmatization\n",
    "    preprocess_tweetlemma = []\n",
    "    for word in preprocess_tweet:\n",
    "        if not word in remove_words:\n",
    "            preprocess_tweetlemma.append(lemma(word))\n",
    "    # third: add mark_negation\n",
    "    preprocess_tweetLemmaMark = mark_negation(preprocess_tweetlemma)\n",
    "    return preprocess_tweetLemmaMark"
   ]
  },
  {
   "cell_type": "markdown",
   "metadata": {
    "colab_type": "text",
    "id": "JNUvG2ZhO5xx"
   },
   "source": [
    "### Definir el clasificador\n",
    "\n",
    "Consejo para el vectorizador: investigar los modulos de `nltk`, en particular, `TweetTokenizer`, `mark_negation`. También, el parámetro ngram_range para clasificadores no bayesianos.\n",
    "\n",
    "Consejo para el clasificador: investigar otros clasificadores mas efectivos que naive bayes. Ojo q naive bayes no debería usarse con n-gramas, ya que rompe el supuesto de independencia.\n"
   ]
  },
  {
   "cell_type": "code",
   "execution_count": 7,
   "metadata": {
    "ExecuteTime": {
     "end_time": "2019-08-21T19:50:52.114345Z",
     "start_time": "2019-08-21T19:50:52.110384Z"
    },
    "colab": {},
    "colab_type": "code",
    "id": "YoKB6Yg2O5x0"
   },
   "outputs": [],
   "source": [
    "# Definimos el pipeline con el vectorizador y el clasificador.\n",
    "def get_classifier(n_estimators=200):\n",
    "    # Inicializamos el Vectorizador para transformar las oraciones a BoW \n",
    "    vectorizor = CountVectorizer(tokenizer=overkill_tokenize, ngram_range = (1,3))\n",
    "    \n",
    "    # Inicializamos el Clasificador.\n",
    "    rfc = RandomForestClassifier(n_estimators=n_estimators)\n",
    "    \n",
    "    # Establecer el pipeline.\n",
    "    text_clf = Pipeline([('vect', vectorizor), ('clf', rfc)])\n",
    "    return text_clf"
   ]
  },
  {
   "cell_type": "markdown",
   "metadata": {
    "colab_type": "text",
    "id": "0FbukwgGO5x9"
   },
   "source": [
    "### Definir evaluación\n",
    "\n",
    "Esta función imprime la matriz de confusión, el reporte de clasificación y las metricas usadas en la competencia:\n",
    "\n",
    "\n",
    "- `auc`\n",
    "- `kappa`\n",
    "- `accuracy`"
   ]
  },
  {
   "cell_type": "code",
   "execution_count": 8,
   "metadata": {
    "ExecuteTime": {
     "end_time": "2019-08-21T19:53:24.009626Z",
     "start_time": "2019-08-21T19:53:24.002646Z"
    },
    "colab": {},
    "colab_type": "code",
    "id": "ZMqBB-Q2O5x_"
   },
   "outputs": [],
   "source": [
    "def evaulate(predicted, y_test, labels):\n",
    "    # Importante: al transformar los arreglos de probabilidad a clases,\n",
    "    # entregar el arreglo de clases aprendido por el clasificador. \n",
    "    # (que comunmente, es distinto a ['low', 'medium', 'high'])\n",
    "    predicted_labels = [labels[np.argmax(item)] for item in predicted]\n",
    "    \n",
    "    # Confusion Matrix\n",
    "    print('Confusion Matrix for {}:\\n'.format(key))\n",
    "\n",
    "    # Classification Report\n",
    "    print(\n",
    "        confusion_matrix(y_test,\n",
    "                         predicted_labels,\n",
    "                         labels=['low', 'medium', 'high']))\n",
    "\n",
    "    print('\\nClassification Report')\n",
    "    print(\n",
    "        classification_report(y_test,\n",
    "                              predicted_labels,\n",
    "                              labels=['low', 'medium', 'high']))\n",
    "\n",
    "    # AUC\n",
    "    print(\"auc: \", auc(y_test, predicted))\n",
    "\n",
    "    # Kappa\n",
    "    print(\"kappa:\", cohen_kappa_score(y_test, predicted_labels))\n",
    "\n",
    "    # Accuracy\n",
    "    print(\"accuracy:\", accuracy_score(y_test, predicted_labels), \"\\n\")\n",
    "\n",
    "    print('------------------------------------------------------\\n\\n')"
   ]
  },
  {
   "cell_type": "markdown",
   "metadata": {},
   "source": [
    "## cross validation \n",
    "\n",
    "generar cross validation para manejar estadisticas"
   ]
  },
  {
   "cell_type": "code",
   "execution_count": 9,
   "metadata": {},
   "outputs": [],
   "source": [
    "def statisticsCV(clf, dataset, n_cv=10, eval_metric='accuracy'):\n",
    "    metrics = cross_val_score(clf, dataset.tweet, dataset.sentiment_intensity, cv= n_cv, scoring=eval_metric)\n",
    "    mean = np.mean(metrics)\n",
    "    std = np.std(metrics)\n",
    "    return mean, std, eval_metric"
   ]
  },
  {
   "cell_type": "markdown",
   "metadata": {
    "colab_type": "text",
    "id": "bYQ5u7JQO5yG"
   },
   "source": [
    "### Ejecutar el clasificador para cierto dataset\n",
    "\n",
    "Clasifica un dataset. Retorna el modelo ya entrenado mas sus labels asociadas.\n"
   ]
  },
  {
   "cell_type": "code",
   "execution_count": 10,
   "metadata": {
    "ExecuteTime": {
     "end_time": "2019-08-21T19:53:25.978116Z",
     "start_time": "2019-08-21T19:53:25.973129Z"
    },
    "colab": {},
    "colab_type": "code",
    "id": "0GI0S_jdO5yI",
    "scrolled": true
   },
   "outputs": [],
   "source": [
    "def classify(dataset, key):\n",
    "\n",
    "    X_train, X_test, y_train, y_test = split_dataset(dataset)\n",
    "    text_clf = get_classifier()\n",
    "\n",
    "    # Entrenar el clasificador\n",
    "    text_clf.fit(X_train, y_train)\n",
    "\n",
    "    # Predecir las probabilidades de intensidad de cada elemento del set de prueba.\n",
    "    predicted = text_clf.predict_proba(X_test)\n",
    "\n",
    "    # Obtener las clases aprendidas.\n",
    "    learned_labels = text_clf.classes_\n",
    "\n",
    "    # Evaluar -> baseline\n",
    "    evaulate(predicted, y_test, learned_labels)\n",
    "    \n",
    "    # Estadisticas CV\n",
    "    # Estadisticas CV\n",
    "    mean, std, eval_metric = statisticsCV(text_clf, dataset, n_cv=20)\n",
    "    print('{} for {}:\\n'.format(eval_metric, key))\n",
    "    print(\"mean: \", mean, \"|  std: \", std)\n",
    "    print('\\n')\n",
    "    \n",
    "    \n",
    "    # Estadisticas CV\n",
    "    mean, std, eval_metric = statisticsCV(text_clf, dataset, n_cv=20, eval_metric=make_scorer(cohen_kappa_score))\n",
    "    print('{} for {}:\\n'.format(eval_metric, key))\n",
    "    print(\"mean: \", mean, \"|  std: \", std)\n",
    "    print('\\n')\n",
    "    \n",
    "    print(\"--------------------------------------------------------------\")\n",
    "    \n",
    "    return text_clf, learned_labels"
   ]
  },
  {
   "cell_type": "markdown",
   "metadata": {
    "colab_type": "text",
    "id": "8d7ua7yXO5yR"
   },
   "source": [
    "### Ejecutar el clasificador por cada dataset\n"
   ]
  },
  {
   "cell_type": "code",
   "execution_count": 11,
   "metadata": {
    "ExecuteTime": {
     "end_time": "2019-08-21T19:53:27.106461Z",
     "start_time": "2019-08-21T19:53:26.933924Z"
    },
    "colab": {},
    "colab_type": "code",
    "id": "WOwdXPKvO5yT",
    "outputId": "c08690dc-11eb-4a43-9071-ba09f047ac34",
    "scrolled": true
   },
   "outputs": [
    {
     "name": "stdout",
     "output_type": "stream",
     "text": [
      "Confusion Matrix for anger:\n",
      "\n",
      "[[  7  46   0]\n",
      " [  7 188   9]\n",
      " [  0  38  16]]\n",
      "\n",
      "Classification Report\n",
      "              precision    recall  f1-score   support\n",
      "\n",
      "         low       0.50      0.13      0.21        53\n",
      "      medium       0.69      0.92      0.79       204\n",
      "        high       0.64      0.30      0.41        54\n",
      "\n",
      "    accuracy                           0.68       311\n",
      "   macro avg       0.61      0.45      0.47       311\n",
      "weighted avg       0.65      0.68      0.62       311\n",
      "\n",
      "auc:  0.4851802407801154\n",
      "kappa: 0.20543675429856167\n",
      "accuracy: 0.6784565916398714 \n",
      "\n",
      "------------------------------------------------------\n",
      "\n",
      "\n",
      "accuracy for anger:\n",
      "\n",
      "mean:  0.6703726472087448 |  std:  0.0582270448098701\n",
      "\n",
      "\n",
      "make_scorer(cohen_kappa_score) for anger:\n",
      "\n",
      "mean:  0.1857394664441177 |  std:  0.1226751122618751\n",
      "\n",
      "\n",
      "--------------------------------------------------------------\n",
      "Confusion Matrix for fear:\n",
      "\n",
      "[[ 18  76   1]\n",
      " [ 18 209   4]\n",
      " [  1  70  18]]\n",
      "\n",
      "Classification Report\n",
      "              precision    recall  f1-score   support\n",
      "\n",
      "         low       0.49      0.19      0.27        95\n",
      "      medium       0.59      0.90      0.71       231\n",
      "        high       0.78      0.20      0.32        89\n",
      "\n",
      "    accuracy                           0.59       415\n",
      "   macro avg       0.62      0.43      0.44       415\n",
      "weighted avg       0.61      0.59      0.53       415\n",
      "\n",
      "auc:  0.45588140371568964\n",
      "kappa: 0.1666469796120863\n",
      "accuracy: 0.5903614457831325 \n",
      "\n",
      "------------------------------------------------------\n",
      "\n",
      "\n",
      "accuracy for fear:\n",
      "\n",
      "mean:  0.5956199491849445 |  std:  0.03958474978803036\n",
      "\n",
      "\n",
      "make_scorer(cohen_kappa_score) for fear:\n",
      "\n",
      "mean:  0.1980664713929238 |  std:  0.07116399305551499\n",
      "\n",
      "\n",
      "--------------------------------------------------------------\n",
      "Confusion Matrix for joy:\n",
      "\n",
      "[[ 11  57   4]\n",
      " [ 12 139  10]\n",
      " [  0  46  19]]\n",
      "\n",
      "Classification Report\n",
      "              precision    recall  f1-score   support\n",
      "\n",
      "         low       0.48      0.15      0.23        72\n",
      "      medium       0.57      0.86      0.69       161\n",
      "        high       0.58      0.29      0.39        65\n",
      "\n",
      "    accuracy                           0.57       298\n",
      "   macro avg       0.54      0.44      0.44       298\n",
      "weighted avg       0.55      0.57      0.51       298\n",
      "\n",
      "auc:  0.46138203781159076\n",
      "kappa: 0.16504854368932043\n",
      "accuracy: 0.5671140939597316 \n",
      "\n",
      "------------------------------------------------------\n",
      "\n",
      "\n",
      "accuracy for joy:\n",
      "\n",
      "mean:  0.590779330208046 |  std:  0.04572242016581442\n",
      "\n",
      "\n",
      "make_scorer(cohen_kappa_score) for joy:\n",
      "\n",
      "mean:  0.17973946356227083 |  std:  0.11254970244351091\n",
      "\n",
      "\n",
      "--------------------------------------------------------------\n",
      "Confusion Matrix for sadness:\n",
      "\n",
      "[[  5  64   0]\n",
      " [  6 134  10]\n",
      " [  1  52  12]]\n",
      "\n",
      "Classification Report\n",
      "              precision    recall  f1-score   support\n",
      "\n",
      "         low       0.42      0.07      0.12        69\n",
      "      medium       0.54      0.89      0.67       150\n",
      "        high       0.55      0.18      0.28        65\n",
      "\n",
      "    accuracy                           0.53       284\n",
      "   macro avg       0.50      0.38      0.36       284\n",
      "weighted avg       0.51      0.53      0.45       284\n",
      "\n",
      "auc:  0.41634247375625183\n",
      "kappa: 0.07643405545503446\n",
      "accuracy: 0.5316901408450704 \n",
      "\n",
      "------------------------------------------------------\n",
      "\n",
      "\n",
      "accuracy for sadness:\n",
      "\n",
      "mean:  0.5490743162112987 |  std:  0.036934923426780765\n",
      "\n",
      "\n",
      "make_scorer(cohen_kappa_score) for sadness:\n",
      "\n",
      "mean:  0.11709438517629858 |  std:  0.08641469503034371\n",
      "\n",
      "\n",
      "--------------------------------------------------------------\n"
     ]
    }
   ],
   "source": [
    "classifiers = []\n",
    "learned_labels_array = []\n",
    "\n",
    "# Por cada llave en train ('anger', 'fear', 'joy', 'sadness')\n",
    "for key in train:\n",
    "    classifier, learned_labels = classify(train[key], key)\n",
    "    classifiers.append(classifier)\n",
    "    learned_labels_array.append(learned_labels)"
   ]
  },
  {
   "cell_type": "markdown",
   "metadata": {
    "ExecuteTime": {
     "end_time": "2019-08-21T19:37:43.169737Z",
     "start_time": "2019-08-21T19:37:43.166744Z"
    },
    "colab_type": "text",
    "id": "CsNJGodwO5ya"
   },
   "source": [
    "## Predecir target set"
   ]
  },
  {
   "cell_type": "code",
   "execution_count": 12,
   "metadata": {
    "ExecuteTime": {
     "end_time": "2019-08-21T19:50:59.474909Z",
     "start_time": "2019-08-21T19:50:59.469921Z"
    },
    "colab": {},
    "colab_type": "code",
    "id": "GmqXxh55O5yc"
   },
   "outputs": [],
   "source": [
    "def predict_target(dataset, classifier, labels):\n",
    "    # Predecir las probabilidades de intensidad de cada elemento del target set.\n",
    "    predicted = pd.DataFrame(classifier.predict_proba(dataset.tweet), columns=labels)\n",
    "    # Agregar ids\n",
    "    predicted['id'] = dataset.id.values\n",
    "    # Reordenar\n",
    "    predicted = predicted[['id', 'low', 'medium', 'high']]\n",
    "    return predicted"
   ]
  },
  {
   "cell_type": "markdown",
   "metadata": {
    "colab_type": "text",
    "id": "MLvivpH0O5yi"
   },
   "source": [
    "### Ejecutar la predicción y guardar archivos."
   ]
  },
  {
   "cell_type": "code",
   "execution_count": 13,
   "metadata": {
    "ExecuteTime": {
     "end_time": "2019-08-21T20:00:10.724762Z",
     "start_time": "2019-08-21T20:00:10.576665Z"
    },
    "colab": {},
    "colab_type": "code",
    "id": "536ngErBO5yk",
    "scrolled": true
   },
   "outputs": [],
   "source": [
    "predicted_target = {}\n",
    "\n",
    "if (not os.path.isdir('./predictions')):\n",
    "    os.mkdir('./predictions')\n",
    "\n",
    "else:\n",
    "    # Eliminar predicciones anteriores:\n",
    "    shutil.rmtree('./predictions')\n",
    "    os.mkdir('./predictions')\n",
    "\n",
    "for idx, key in enumerate(target):\n",
    "    # Predecir el target set\n",
    "    predicted_target[key] = predict_target(target[key], classifiers[idx],\n",
    "                                           learned_labels_array[idx])\n",
    "    # Guardar predicciones\n",
    "    predicted_target[key].to_csv('./predictions/{}-pred.txt'.format(key),\n",
    "                                 sep='\\t',\n",
    "                                 header=False,\n",
    "                                 index=False)\n",
    "\n",
    "# Crear archivo zip\n",
    "a = shutil.make_archive('predictions', 'zip', './predictions')"
   ]
  }
 ],
 "metadata": {
  "colab": {
   "include_colab_link": true,
   "name": "Tarea_1.ipynb",
   "provenance": []
  },
  "kernelspec": {
   "display_name": ".venv",
   "language": "python",
   "name": ".venv"
  },
  "language_info": {
   "codemirror_mode": {
    "name": "ipython",
    "version": 3
   },
   "file_extension": ".py",
   "mimetype": "text/x-python",
   "name": "python",
   "nbconvert_exporter": "python",
   "pygments_lexer": "ipython3",
   "version": "3.6.8"
  },
  "toc": {
   "base_numbering": 1,
   "nav_menu": {},
   "number_sections": true,
   "sideBar": true,
   "skip_h1_title": true,
   "title_cell": "Table of Contents",
   "title_sidebar": "Contents",
   "toc_cell": true,
   "toc_position": {},
   "toc_section_display": true,
   "toc_window_display": false
  },
  "varInspector": {
   "cols": {
    "lenName": 16,
    "lenType": 16,
    "lenVar": 40
   },
   "kernels_config": {
    "python": {
     "delete_cmd_postfix": "",
     "delete_cmd_prefix": "del ",
     "library": "var_list.py",
     "varRefreshCmd": "print(var_dic_list())"
    },
    "r": {
     "delete_cmd_postfix": ") ",
     "delete_cmd_prefix": "rm(",
     "library": "var_list.r",
     "varRefreshCmd": "cat(var_dic_list()) "
    }
   },
   "types_to_exclude": [
    "module",
    "function",
    "builtin_function_or_method",
    "instance",
    "_Feature"
   ],
   "window_display": false
  }
 },
 "nbformat": 4,
 "nbformat_minor": 1
}
