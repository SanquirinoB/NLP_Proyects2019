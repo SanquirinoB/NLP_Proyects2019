{
 "cells": [
  {
   "cell_type": "markdown",
   "metadata": {
    "ExecuteTime": {
     "end_time": "2019-08-21T19:18:43.301002Z",
     "start_time": "2019-08-21T19:18:43.298037Z"
    },
    "colab_type": "text",
    "id": "ag-yRP2rO5wn"
   },
   "source": [
    "# Baseline tarea 1\n",
    "\n",
    "-----------------------------\n",
    "\n",
    "\n",
    "\n",
    "\n",
    "## Importar librerías y utiles"
   ]
  },
  {
   "cell_type": "code",
   "execution_count": 11,
   "metadata": {
    "ExecuteTime": {
     "end_time": "2019-08-21T19:45:52.624502Z",
     "start_time": "2019-08-21T19:45:48.613907Z"
    },
    "colab": {},
    "colab_type": "code",
    "id": "fWLZ8wA0O5ww"
   },
   "outputs": [],
   "source": [
    "import pandas as pd\n",
    "import shutil\n",
    "\n",
    "from sklearn.feature_extraction.text import CountVectorizer, TfidfVectorizer\n",
    "from sklearn.naive_bayes import MultinomialNB\n",
    "from sklearn.pipeline import Pipeline\n",
    "from sklearn.metrics import confusion_matrix, cohen_kappa_score, classification_report, accuracy_score, roc_auc_score\n",
    "from sklearn.model_selection import train_test_split, cross_val_score\n",
    "from sklearn import model_selection\n",
    "from nltk.tokenize import TweetTokenizer\n",
    "from sklearn.ensemble import VotingClassifier, RandomForestClassifier\n",
    "from nltk.sentiment.util import mark_negation\n",
    "import matplotlib.pyplot as plt\n",
    "import os\n",
    "import numpy as np"
   ]
  },
  {
   "cell_type": "markdown",
   "metadata": {
    "colab_type": "text",
    "id": "OggxcxoCO5w-"
   },
   "source": [
    "## Datos\n",
    "\n",
    "### Obtener los datasets desde el github del curso"
   ]
  },
  {
   "cell_type": "code",
   "execution_count": 2,
   "metadata": {
    "ExecuteTime": {
     "end_time": "2019-08-21T19:45:55.819485Z",
     "start_time": "2019-08-21T19:45:52.626520Z"
    },
    "colab": {},
    "colab_type": "code",
    "id": "7d5pB9dsO5xB"
   },
   "outputs": [],
   "source": [
    "train = {\n",
    "    'anger': pd.read_csv('https://raw.githubusercontent.com/dccuchile/CC6205/master/assignments/assignment_1/data/train/anger-train.txt', sep='\\t', names=['id', 'tweet', 'class', 'sentiment_intensity']),\n",
    "    'fear': pd.read_csv('https://raw.githubusercontent.com/dccuchile/CC6205/master/assignments/assignment_1/data/train/fear-train.txt', sep='\\t', names=['id', 'tweet', 'class', 'sentiment_intensity']),\n",
    "    'joy': pd.read_csv('https://raw.githubusercontent.com/dccuchile/CC6205/master/assignments/assignment_1/data/train/joy-train.txt', sep='\\t', names=['id', 'tweet', 'class', 'sentiment_intensity']),\n",
    "    'sadness': pd.read_csv('https://raw.githubusercontent.com/dccuchile/CC6205/master/assignments/assignment_1/data/train/sadness-train.txt', sep='\\t', names=['id', 'tweet', 'class', 'sentiment_intensity'])\n",
    "}\n",
    "\n",
    "target = {\n",
    "    'anger': pd.read_csv('https://raw.githubusercontent.com/dccuchile/CC6205/master/assignments/assignment_1/data/target/anger-target.txt', sep='\\t', names=['id', 'tweet', 'class', 'sentiment_intensity'], na_values=['NONE']),\n",
    "    'fear': pd.read_csv('https://raw.githubusercontent.com/dccuchile/CC6205/master/assignments/assignment_1/data/target/fear-target.txt', sep='\\t', names=['id', 'tweet', 'class', 'sentiment_intensity'], na_values=['NONE']),\n",
    "    'joy': pd.read_csv('https://raw.githubusercontent.com/dccuchile/CC6205/master/assignments/assignment_1/data/target/joy-target.txt', sep='\\t', names=['id', 'tweet', 'class', 'sentiment_intensity'], na_values=['NONE']),\n",
    "    'sadness': pd.read_csv('https://raw.githubusercontent.com/dccuchile/CC6205/master/assignments/assignment_1/data/target/sadness-target.txt', sep='\\t', names=['id', 'tweet', 'class', 'sentiment_intensity'], na_values=['NONE'])\n",
    "}"
   ]
  },
  {
   "cell_type": "markdown",
   "metadata": {
    "colab_type": "text",
    "id": "UwaBrBQwO5xM"
   },
   "source": [
    "### Analizar los datos \n",
    "\n",
    "Imprimir la cantidad de tweets de cada dataset, según su intensidad de sentimiento"
   ]
  },
  {
   "cell_type": "code",
   "execution_count": 3,
   "metadata": {
    "ExecuteTime": {
     "end_time": "2019-08-21T19:45:55.879257Z",
     "start_time": "2019-08-21T19:45:55.826364Z"
    },
    "colab": {},
    "colab_type": "code",
    "id": "69D37cVuO5xO",
    "outputId": "20fddfbf-7034-4261-9c09-546c8cb80d20"
   },
   "outputs": [
    {
     "name": "stdout",
     "output_type": "stream",
     "text": [
      "anger \n",
      "                       id  tweet  class\n",
      "sentiment_intensity                   \n",
      "high                 163    163    163\n",
      "low                  161    161    161\n",
      "medium               617    617    617\n",
      "fear \n",
      "                       id  tweet  class\n",
      "sentiment_intensity                   \n",
      "high                 270    270    270\n",
      "low                  288    288    288\n",
      "medium               699    699    699\n",
      "joy \n",
      "                       id  tweet  class\n",
      "sentiment_intensity                   \n",
      "high                 195    195    195\n",
      "low                  219    219    219\n",
      "medium               488    488    488\n",
      "sadness \n",
      "                       id  tweet  class\n",
      "sentiment_intensity                   \n",
      "high                 197    197    197\n",
      "low                  210    210    210\n",
      "medium               453    453    453\n"
     ]
    }
   ],
   "source": [
    "def get_group_dist(group_name, train):\n",
    "    print(group_name, \"\\n\",\n",
    "          train[group_name].groupby('sentiment_intensity').count())\n",
    "\n",
    "\n",
    "for key in train:\n",
    "    get_group_dist(key, train)"
   ]
  },
  {
   "cell_type": "markdown",
   "metadata": {
    "colab_type": "text",
    "id": "51Q3K6cmO5xc"
   },
   "source": [
    "## Clasificar"
   ]
  },
  {
   "cell_type": "code",
   "execution_count": 4,
   "metadata": {
    "ExecuteTime": {
     "end_time": "2019-08-21T19:45:55.891188Z",
     "start_time": "2019-08-21T19:45:55.882211Z"
    },
    "colab": {},
    "colab_type": "code",
    "id": "M_nNREymO5xe"
   },
   "outputs": [],
   "source": [
    "# Metrica de evaluación. No tocar...\n",
    "def auc(test_set, predicted_set):\n",
    "    high_predicted = np.array([prediction[2] for prediction in predicted_set])\n",
    "    medium_predicted = np.array(\n",
    "        [prediction[1] for prediction in predicted_set])\n",
    "    low_predicted = np.array([prediction[0] for prediction in predicted_set])\n",
    "\n",
    "    high_test = np.where(test_set == 'high', 1.0, 0.0)\n",
    "    medium_test = np.where(test_set == 'medium', 1.0, 0.0)\n",
    "    low_test = np.where(test_set == 'low', 1.0, 0.0)\n",
    "\n",
    "    auc_high = roc_auc_score(high_test, high_predicted)\n",
    "    auc_med = roc_auc_score(medium_test, medium_predicted)\n",
    "    auc_low = roc_auc_score(low_test, low_predicted)\n",
    "\n",
    "    auc_w = (low_test.sum() * auc_low + medium_test.sum() * auc_med +\n",
    "             high_test.sum() * auc_high) / (\n",
    "                 low_test.sum() + medium_test.sum() + high_test.sum())\n",
    "    return auc_w    "
   ]
  },
  {
   "cell_type": "markdown",
   "metadata": {
    "colab_type": "text",
    "id": "89OXoatnO5xm"
   },
   "source": [
    "### Dividir el dataset en entrenamiento y prueba"
   ]
  },
  {
   "cell_type": "code",
   "execution_count": 5,
   "metadata": {
    "ExecuteTime": {
     "end_time": "2019-08-21T19:45:55.901161Z",
     "start_time": "2019-08-21T19:45:55.893181Z"
    },
    "colab": {},
    "colab_type": "code",
    "id": "tRNnXvmAO5xp"
   },
   "outputs": [],
   "source": [
    "def split_dataset(dataset):\n",
    "    # Dividir el dataset en train set y test set\n",
    "    X_train, X_test, y_train, y_test = train_test_split(\n",
    "        dataset.tweet,\n",
    "        dataset.sentiment_intensity,\n",
    "        shuffle=True,\n",
    "        test_size=0.33)\n",
    "    return X_train, X_test, y_train, y_test"
   ]
  },
  {
   "cell_type": "markdown",
   "metadata": {
    "colab_type": "text",
    "id": "JNUvG2ZhO5xx"
   },
   "source": [
    "### Definir el clasificador\n",
    "\n",
    "Consejo para el vectorizador: investigar los modulos de `nltk`, en particular, `TweetTokenizer`, `mark_negation`. También, el parámetro ngram_range para clasificadores no bayesianos.\n",
    "\n",
    "Consejo para el clasificador: investigar otros clasificadores mas efectivos que naive bayes. Ojo q naive bayes no debería usarse con n-gramas, ya que rompe el supuesto de independencia.\n"
   ]
  },
  {
   "cell_type": "code",
   "execution_count": 25,
   "metadata": {
    "ExecuteTime": {
     "end_time": "2019-08-21T19:50:52.114345Z",
     "start_time": "2019-08-21T19:50:52.110384Z"
    },
    "colab": {},
    "colab_type": "code",
    "id": "YoKB6Yg2O5x0"
   },
   "outputs": [],
   "source": [
    "# Definimos el pipeline con el vectorizador y el clasificador.\n",
    "def get_classifier(n_estimators=100):\n",
    "     # Inicializamos el Vectorizador para transformar las oraciones a BoW \n",
    "    vectorizor = TfidfVectorizer(ngram_range = (1,3), stop_words='english')\n",
    "    #vectorizor.tokenizer = TweetTokenizer(strip_handles=True, reduce_len=True).tokenize\n",
    "    #vectorizor.preprocessor = mark_negation\n",
    "    # Inicializamos el Clasificador.\n",
    "    rfc = RandomForestClassifier(n_estimators=n_estimators)\n",
    "    \n",
    "    # Establecer el pipeline.\n",
    "    text_clf = Pipeline([('vect', vectorizor), ('clf', rfc)])\n",
    "    return text_clf"
   ]
  },
  {
   "cell_type": "markdown",
   "metadata": {
    "colab_type": "text",
    "id": "0FbukwgGO5x9"
   },
   "source": [
    "### Definir evaluación\n",
    "\n",
    "Esta función imprime la matriz de confusión, el reporte de clasificación y las metricas usadas en la competencia:\n",
    "\n",
    "\n",
    "- `auc`\n",
    "- `kappa`\n",
    "- `accuracy`"
   ]
  },
  {
   "cell_type": "code",
   "execution_count": 7,
   "metadata": {
    "ExecuteTime": {
     "end_time": "2019-08-21T19:53:24.009626Z",
     "start_time": "2019-08-21T19:53:24.002646Z"
    },
    "colab": {},
    "colab_type": "code",
    "id": "ZMqBB-Q2O5x_"
   },
   "outputs": [],
   "source": [
    "def evaulate(predicted, y_test, labels):\n",
    "    # Importante: al transformar los arreglos de probabilidad a clases,\n",
    "    # entregar el arreglo de clases aprendido por el clasificador. \n",
    "    # (que comunmente, es distinto a ['low', 'medium', 'high'])\n",
    "    predicted_labels = [labels[np.argmax(item)] for item in predicted]\n",
    "    \n",
    "    # Confusion Matrix\n",
    "    print('Confusion Matrix for {}:\\n'.format(key))\n",
    "\n",
    "    # Classification Report\n",
    "    print(\n",
    "        confusion_matrix(y_test,\n",
    "                         predicted_labels,\n",
    "                         labels=['low', 'medium', 'high']))\n",
    "\n",
    "    print('\\nClassification Report')\n",
    "    print(\n",
    "        classification_report(y_test,\n",
    "                              predicted_labels,\n",
    "                              labels=['low', 'medium', 'high']))\n",
    "\n",
    "    # AUC\n",
    "    print(\"auc: \", auc(y_test, predicted))\n",
    "\n",
    "    # Kappa\n",
    "    print(\"kappa:\", cohen_kappa_score(y_test, predicted_labels))\n",
    "\n",
    "    # Accuracy\n",
    "    print(\"accuracy:\", accuracy_score(y_test, predicted_labels), \"\\n\")\n",
    "\n",
    "    print('------------------------------------------------------\\n\\n')"
   ]
  },
  {
   "cell_type": "markdown",
   "metadata": {},
   "source": [
    "## cross validation \n",
    "\n",
    "generar cross validation para manejar estadisticas"
   ]
  },
  {
   "cell_type": "code",
   "execution_count": 8,
   "metadata": {},
   "outputs": [],
   "source": [
    "def statisticsCV(clf, dataset, n_cv=10, eval_metric='accuracy'):\n",
    "    metrics = cross_val_score(clf, dataset.tweet, dataset.sentiment_intensity, cv= n_cv, scoring=eval_metric)\n",
    "    mean = np.mean(metrics)\n",
    "    std = np.std(metrics)\n",
    "    return mean, std, eval_metric"
   ]
  },
  {
   "cell_type": "markdown",
   "metadata": {},
   "source": [
    "## Graficos de metricas vs parameters"
   ]
  },
  {
   "cell_type": "code",
   "execution_count": 30,
   "metadata": {},
   "outputs": [],
   "source": [
    "def plot_statistics(dataset, key, n_cv=10, eval_metric='accuracy'):\n",
    "    rfc = get_classifier()\n",
    "    n_est = np.arange(100,1000,100)\n",
    "    scores = list()\n",
    "    scores_std = list()\n",
    "    print(\"metricas: \"+eval_metric)\n",
    "    for n in n_est:\n",
    "        rfc = get_classifier(n)\n",
    "        mean, std, eval_metric = statisticsCV(rfc, dataset, n_cv, eval_metric)\n",
    "        scores.append(mean)\n",
    "        scores_std.append(std)\n",
    "        print('sentiment: {} | abscisa: {}, | mean: {} | std: {}  \\n'.format(key, n, mean, std))\n",
    "    plt.figure()\n",
    "    plt.plot(n_est, scores)\n",
    "    plt.plot(n_est, np.array(scores) + np.array(scores_std), 'b--')\n",
    "    plt.plot(n_est, np.array(scores) - np.array(scores_std), 'b--')\n",
    "    locs, labels = plt.yticks()\n",
    "    plt.ylabel(\"CV score \"+ key)\n",
    "    plt.xlabel(\"Parameter \" +eval_metric)\n",
    "    plt.show()"
   ]
  },
  {
   "cell_type": "code",
   "execution_count": 32,
   "metadata": {
    "scrolled": false
   },
   "outputs": [
    {
     "name": "stdout",
     "output_type": "stream",
     "text": [
      "metricas: accuracy\n",
      "sentiment: anger | abscisa: 100, | mean: 0.6673335858395162 | std: 0.0516056747841841  \n",
      "\n",
      "sentiment: anger | abscisa: 200, | mean: 0.6758248928618626 | std: 0.047574278210761524  \n",
      "\n",
      "sentiment: anger | abscisa: 300, | mean: 0.6715704783300925 | std: 0.04930756625353788  \n",
      "\n",
      "sentiment: anger | abscisa: 400, | mean: 0.6683539940027815 | std: 0.04565193296254678  \n",
      "\n",
      "sentiment: anger | abscisa: 500, | mean: 0.6705047803117548 | std: 0.04694371247362466  \n",
      "\n",
      "sentiment: anger | abscisa: 600, | mean: 0.6737184327940242 | std: 0.04803542822251744  \n",
      "\n",
      "sentiment: anger | abscisa: 700, | mean: 0.6726102767656553 | std: 0.048027438950922194  \n",
      "\n",
      "sentiment: anger | abscisa: 800, | mean: 0.6694843721484893 | std: 0.04656775657681548  \n",
      "\n",
      "sentiment: anger | abscisa: 900, | mean: 0.6715686100989887 | std: 0.047880035559195504  \n",
      "\n"
     ]
    },
    {
     "data": {
      "image/png": "[encoded data removed]",
      "text/plain": [
       "<Figure size 432x288 with 1 Axes>"
      ]
     },
     "metadata": {
      "needs_background": "light"
     },
     "output_type": "display_data"
    },
    {
     "name": "stdout",
     "output_type": "stream",
     "text": [
      "metricas: accuracy\n",
      "sentiment: fear | abscisa: 100, | mean: 0.5883791841366371 | std: 0.057758392933901094  \n",
      "\n",
      "sentiment: fear | abscisa: 200, | mean: 0.5932290945309024 | std: 0.050665422214585885  \n",
      "\n",
      "sentiment: fear | abscisa: 300, | mean: 0.5956112469886597 | std: 0.04843137389731913  \n",
      "\n",
      "sentiment: fear | abscisa: 400, | mean: 0.5963540748575122 | std: 0.053297367404797985  \n",
      "\n",
      "sentiment: fear | abscisa: 500, | mean: 0.5963912772384645 | std: 0.04897358952619331  \n",
      "\n",
      "sentiment: fear | abscisa: 600, | mean: 0.5955724248319105 | std: 0.056069494849427755  \n",
      "\n",
      "sentiment: fear | abscisa: 700, | mean: 0.5900028487069073 | std: 0.0519570206126863  \n",
      "\n",
      "sentiment: fear | abscisa: 800, | mean: 0.5987986313091251 | std: 0.04820081931543117  \n",
      "\n",
      "sentiment: fear | abscisa: 900, | mean: 0.5963544945565039 | std: 0.04827212667959661  \n",
      "\n"
     ]
    },
    {
     "data": {
      "image/png": "[encoded data removed]",
      "text/plain": [
       "<Figure size 432x288 with 1 Axes>"
      ]
     },
     "metadata": {
      "needs_background": "light"
     },
     "output_type": "display_data"
    },
    {
     "name": "stdout",
     "output_type": "stream",
     "text": [
      "metricas: accuracy\n",
      "sentiment: joy | abscisa: 100, | mean: 0.6079729294971965 | std: 0.07507644301915757  \n",
      "\n",
      "sentiment: joy | abscisa: 200, | mean: 0.6036262013461203 | std: 0.06681993794701903  \n",
      "\n",
      "sentiment: joy | abscisa: 300, | mean: 0.6013534740733932 | std: 0.07148931540235912  \n",
      "\n",
      "sentiment: joy | abscisa: 400, | mean: 0.6001654308504661 | std: 0.0729615581188314  \n",
      "\n",
      "sentiment: joy | abscisa: 500, | mean: 0.601277639897458 | std: 0.07292654564353367  \n",
      "\n",
      "sentiment: joy | abscisa: 600, | mean: 0.5980167703322404 | std: 0.0717164258526026  \n",
      "\n",
      "sentiment: joy | abscisa: 700, | mean: 0.6001929558476575 | std: 0.07125962623817704  \n",
      "\n",
      "sentiment: joy | abscisa: 800, | mean: 0.5980156723963599 | std: 0.07120776978194776  \n",
      "\n",
      "sentiment: joy | abscisa: 900, | mean: 0.6035975784130486 | std: 0.0693450448195977  \n",
      "\n"
     ]
    },
    {
     "data": {
      "image/png": "[encoded data removed]",
      "text/plain": [
       "<Figure size 432x288 with 1 Axes>"
      ]
     },
     "metadata": {
      "needs_background": "light"
     },
     "output_type": "display_data"
    },
    {
     "name": "stdout",
     "output_type": "stream",
     "text": [
      "metricas: accuracy\n",
      "sentiment: sadness | abscisa: 100, | mean: 0.5082285765850711 | std: 0.0693473279354204  \n",
      "\n",
      "sentiment: sadness | abscisa: 200, | mean: 0.5130286026131177 | std: 0.06798763243313276  \n",
      "\n",
      "sentiment: sadness | abscisa: 300, | mean: 0.5038016908408287 | std: 0.06753107576557049  \n",
      "\n",
      "sentiment: sadness | abscisa: 400, | mean: 0.5084857570109981 | std: 0.06606491977656387  \n",
      "\n",
      "sentiment: sadness | abscisa: 500, | mean: 0.516623941382875 | std: 0.06960992443219426  \n",
      "\n",
      "sentiment: sadness | abscisa: 600, | mean: 0.5083723140161032 | std: 0.06369365340272716  \n",
      "\n",
      "sentiment: sadness | abscisa: 700, | mean: 0.5025873965323767 | std: 0.06486316776871086  \n",
      "\n",
      "sentiment: sadness | abscisa: 800, | mean: 0.5177088014084611 | std: 0.060049590504063714  \n",
      "\n",
      "sentiment: sadness | abscisa: 900, | mean: 0.5131407871765218 | std: 0.07195078185209113  \n",
      "\n"
     ]
    },
    {
     "data": {
      "image/png": "[encoded data removed]",
      "text/plain": [
       "<Figure size 432x288 with 1 Axes>"
      ]
     },
     "metadata": {
      "needs_background": "light"
     },
     "output_type": "display_data"
    }
   ],
   "source": [
    "for key in train:\n",
    "    plot_statistics(train[key], key, 20)"
   ]
  },
  {
   "cell_type": "markdown",
   "metadata": {
    "colab_type": "text",
    "id": "bYQ5u7JQO5yG"
   },
   "source": [
    "### Ejecutar el clasificador para cierto dataset\n",
    "\n",
    "Clasifica un dataset. Retorna el modelo ya entrenado mas sus labels asociadas.\n"
   ]
  },
  {
   "cell_type": "code",
   "execution_count": 1,
   "metadata": {
    "ExecuteTime": {
     "end_time": "2019-08-21T19:53:25.978116Z",
     "start_time": "2019-08-21T19:53:25.973129Z"
    },
    "colab": {},
    "colab_type": "code",
    "id": "0GI0S_jdO5yI",
    "scrolled": true
   },
   "outputs": [],
   "source": [
    "def classify(dataset, key):\n",
    "\n",
    "    X_train, X_test, y_train, y_test = split_dataset(dataset)\n",
    "    text_clf = get_classifier()\n",
    "\n",
    "    # Entrenar el clasificador\n",
    "    text_clf.fit(X_train, y_train)\n",
    "\n",
    "    # Predecir las probabilidades de intensidad de cada elemento del set de prueba.\n",
    "    predicted = text_clf.predict_proba(X_test)\n",
    "\n",
    "    # Obtener las clases aprendidas.\n",
    "    learned_labels = text_clf.classes_\n",
    "\n",
    "    # Evaluar -> baseline\n",
    "    # evaulate(predicted, y_test, learned_labels)\n",
    "    \n",
    "    # Estadisticas CV\n",
    "    mean, std, eval_metric = statisticsCV(text_clf, dataset, n_iter=10)\n",
    "    print('{} for {}:\\n'.format(eval_metric, key))\n",
    "    print(\"mean: \", mean, \"|  std: \", std)\n",
    "    print('\\n')\n",
    "    \n",
    "    return text_clf, learned_labels"
   ]
  },
  {
   "cell_type": "markdown",
   "metadata": {
    "colab_type": "text",
    "id": "8d7ua7yXO5yR"
   },
   "source": [
    "### Ejecutar el clasificador por cada dataset\n"
   ]
  },
  {
   "cell_type": "code",
   "execution_count": 2,
   "metadata": {
    "ExecuteTime": {
     "end_time": "2019-08-21T19:53:27.106461Z",
     "start_time": "2019-08-21T19:53:26.933924Z"
    },
    "colab": {},
    "colab_type": "code",
    "id": "WOwdXPKvO5yT",
    "outputId": "c08690dc-11eb-4a43-9071-ba09f047ac34",
    "scrolled": true
   },
   "outputs": [
    {
     "ename": "NameError",
     "evalue": "name 'train' is not defined",
     "output_type": "error",
     "traceback": [
      "\u001b[0;31m---------------------------------------------------------------------------\u001b[0m",
      "\u001b[0;31mNameError\u001b[0m                                 Traceback (most recent call last)",
      "\u001b[0;32m<ipython-input-2-14db9aa268a2>\u001b[0m in \u001b[0;36m<module>\u001b[0;34m\u001b[0m\n\u001b[1;32m      3\u001b[0m \u001b[0;34m\u001b[0m\u001b[0m\n\u001b[1;32m      4\u001b[0m \u001b[0;31m# Por cada llave en train ('anger', 'fear', 'joy', 'sadness')\u001b[0m\u001b[0;34m\u001b[0m\u001b[0;34m\u001b[0m\u001b[0;34m\u001b[0m\u001b[0m\n\u001b[0;32m----> 5\u001b[0;31m \u001b[0;32mfor\u001b[0m \u001b[0mkey\u001b[0m \u001b[0;32min\u001b[0m \u001b[0mtrain\u001b[0m\u001b[0;34m:\u001b[0m\u001b[0;34m\u001b[0m\u001b[0;34m\u001b[0m\u001b[0m\n\u001b[0m\u001b[1;32m      6\u001b[0m     \u001b[0mclassifier\u001b[0m\u001b[0;34m,\u001b[0m \u001b[0mlearned_labels\u001b[0m \u001b[0;34m=\u001b[0m \u001b[0mclassify\u001b[0m\u001b[0;34m(\u001b[0m\u001b[0mtrain\u001b[0m\u001b[0;34m[\u001b[0m\u001b[0mkey\u001b[0m\u001b[0;34m]\u001b[0m\u001b[0;34m,\u001b[0m \u001b[0mkey\u001b[0m\u001b[0;34m)\u001b[0m\u001b[0;34m\u001b[0m\u001b[0;34m\u001b[0m\u001b[0m\n\u001b[1;32m      7\u001b[0m     \u001b[0mclassifiers\u001b[0m\u001b[0;34m.\u001b[0m\u001b[0mappend\u001b[0m\u001b[0;34m(\u001b[0m\u001b[0mclassifier\u001b[0m\u001b[0;34m)\u001b[0m\u001b[0;34m\u001b[0m\u001b[0;34m\u001b[0m\u001b[0m\n",
      "\u001b[0;31mNameError\u001b[0m: name 'train' is not defined"
     ]
    }
   ],
   "source": [
    "classifiers = []\n",
    "learned_labels_array = []\n",
    "\n",
    "# Por cada llave en train ('anger', 'fear', 'joy', 'sadness')\n",
    "for key in train:\n",
    "    classifier, learned_labels = classify(train[key], key)\n",
    "    classifiers.append(classifier)\n",
    "    learned_labels_array.append(learned_labels)"
   ]
  },
  {
   "cell_type": "markdown",
   "metadata": {
    "ExecuteTime": {
     "end_time": "2019-08-21T19:37:43.169737Z",
     "start_time": "2019-08-21T19:37:43.166744Z"
    },
    "colab_type": "text",
    "id": "CsNJGodwO5ya"
   },
   "source": [
    "## Predecir target set"
   ]
  },
  {
   "cell_type": "code",
   "execution_count": null,
   "metadata": {
    "ExecuteTime": {
     "end_time": "2019-08-21T19:50:59.474909Z",
     "start_time": "2019-08-21T19:50:59.469921Z"
    },
    "colab": {},
    "colab_type": "code",
    "id": "GmqXxh55O5yc"
   },
   "outputs": [],
   "source": [
    "def predict_target(dataset, classifier, labels):\n",
    "    # Predecir las probabilidades de intensidad de cada elemento del target set.\n",
    "    predicted = pd.DataFrame(classifier.predict_proba(dataset.tweet), columns=labels)\n",
    "    # Agregar ids\n",
    "    predicted['id'] = dataset.id.values\n",
    "    # Reordenar\n",
    "    predicted = predicted[['id', 'low', 'medium', 'high']]\n",
    "    return predicted"
   ]
  },
  {
   "cell_type": "markdown",
   "metadata": {
    "colab_type": "text",
    "id": "MLvivpH0O5yi"
   },
   "source": [
    "### Ejecutar la predicción y guardar archivos."
   ]
  },
  {
   "cell_type": "code",
   "execution_count": null,
   "metadata": {
    "ExecuteTime": {
     "end_time": "2019-08-21T20:00:10.724762Z",
     "start_time": "2019-08-21T20:00:10.576665Z"
    },
    "colab": {},
    "colab_type": "code",
    "id": "536ngErBO5yk",
    "scrolled": true
   },
   "outputs": [],
   "source": [
    "predicted_target = {}\n",
    "\n",
    "if (not os.path.isdir('./predictions')):\n",
    "    os.mkdir('./predictions')\n",
    "\n",
    "else:\n",
    "    # Eliminar predicciones anteriores:\n",
    "    shutil.rmtree('./predictions')\n",
    "    os.mkdir('./predictions')\n",
    "\n",
    "for idx, key in enumerate(target):\n",
    "    # Predecir el target set\n",
    "    predicted_target[key] = predict_target(target[key], classifiers[idx],\n",
    "                                           learned_labels_array[idx])\n",
    "    # Guardar predicciones\n",
    "    predicted_target[key].to_csv('./predictions/{}-pred.txt'.format(key),\n",
    "                                 sep='\\t',\n",
    "                                 header=False,\n",
    "                                 index=False)\n",
    "\n",
    "# Crear archivo zip\n",
    "a = shutil.make_archive('predictions', 'zip', './predictions')"
   ]
  }
 ],
 "metadata": {
  "colab": {
   "include_colab_link": true,
   "name": "Tarea_1.ipynb",
   "provenance": []
  },
  "kernelspec": {
   "display_name": ".venv",
   "language": "python",
   "name": ".venv"
  },
  "language_info": {
   "codemirror_mode": {
    "name": "ipython",
    "version": 3
   },
   "file_extension": ".py",
   "mimetype": "text/x-python",
   "name": "python",
   "nbconvert_exporter": "python",
   "pygments_lexer": "ipython3",
   "version": "3.6.8"
  },
  "toc": {
   "base_numbering": 1,
   "nav_menu": {},
   "number_sections": true,
   "sideBar": true,
   "skip_h1_title": true,
   "title_cell": "Table of Contents",
   "title_sidebar": "Contents",
   "toc_cell": true,
   "toc_position": {},
   "toc_section_display": true,
   "toc_window_display": false
  },
  "varInspector": {
   "cols": {
    "lenName": 16,
    "lenType": 16,
    "lenVar": 40
   },
   "kernels_config": {
    "python": {
     "delete_cmd_postfix": "",
     "delete_cmd_prefix": "del ",
     "library": "var_list.py",
     "varRefreshCmd": "print(var_dic_list())"
    },
    "r": {
     "delete_cmd_postfix": ") ",
     "delete_cmd_prefix": "rm(",
     "library": "var_list.r",
     "varRefreshCmd": "cat(var_dic_list()) "
    }
   },
   "types_to_exclude": [
    "module",
    "function",
    "builtin_function_or_method",
    "instance",
    "_Feature"
   ],
   "window_display": false
  }
 },
 "nbformat": 4,
 "nbformat_minor": 1
}
